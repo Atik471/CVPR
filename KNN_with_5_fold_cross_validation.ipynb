{
  "nbformat": 4,
  "nbformat_minor": 0,
  "metadata": {
    "colab": {
      "provenance": []
    },
    "kernelspec": {
      "name": "python3",
      "display_name": "Python 3"
    },
    "language_info": {
      "name": "python"
    }
  },
  "cells": [
    {
      "cell_type": "code",
      "execution_count": 3,
      "metadata": {
        "colab": {
          "base_uri": "https://localhost:8080/"
        },
        "id": "gPnBemuVhXgA",
        "outputId": "2c41ba9b-06f5-44ba-ee03-85029d87fb89"
      },
      "outputs": [
        {
          "output_type": "stream",
          "name": "stdout",
          "text": [
            "--2025-07-20 06:57:21--  https://www.cs.toronto.edu/~kriz/cifar-10-python.tar.gz\n",
            "Resolving www.cs.toronto.edu (www.cs.toronto.edu)... 128.100.3.30\n",
            "Connecting to www.cs.toronto.edu (www.cs.toronto.edu)|128.100.3.30|:443... connected.\n",
            "HTTP request sent, awaiting response... 200 OK\n",
            "Length: 170498071 (163M) [application/x-gzip]\n",
            "Saving to: ‘cifar-10-python.tar.gz’\n",
            "\n",
            "cifar-10-python.tar 100%[===================>] 162.60M  75.4MB/s    in 2.2s    \n",
            "\n",
            "2025-07-20 06:57:23 (75.4 MB/s) - ‘cifar-10-python.tar.gz’ saved [170498071/170498071]\n",
            "\n",
            "cifar-10-batches-py/\n",
            "cifar-10-batches-py/data_batch_4\n",
            "cifar-10-batches-py/readme.html\n",
            "cifar-10-batches-py/test_batch\n",
            "cifar-10-batches-py/data_batch_3\n",
            "cifar-10-batches-py/batches.meta\n",
            "cifar-10-batches-py/data_batch_2\n",
            "cifar-10-batches-py/data_batch_5\n",
            "cifar-10-batches-py/data_batch_1\n"
          ]
        }
      ],
      "source": [
        "# Download and Extract Cifar-10 batch files\n",
        "!wget https://www.cs.toronto.edu/~kriz/cifar-10-python.tar.gz\n",
        "!tar -xvzf cifar-10-python.tar.gz"
      ]
    },
    {
      "cell_type": "code",
      "source": [
        "# import packages\n",
        "import pickle\n",
        "import numpy as np\n",
        "import matplotlib.pyplot as plt"
      ],
      "metadata": {
        "id": "W4aYoSbRon7t"
      },
      "execution_count": 5,
      "outputs": []
    },
    {
      "cell_type": "code",
      "source": [
        "# Open and load batch-1 from cifar dataset\n",
        "with open('cifar-10-batches-py/data_batch_1', 'rb') as fo:\n",
        "    batch = pickle.load(fo, encoding='bytes')\n",
        "# show batch keys\n",
        "print(batch.keys())"
      ],
      "metadata": {
        "colab": {
          "base_uri": "https://localhost:8080/"
        },
        "id": "Vo4kCo0VpGyD",
        "outputId": "5127e270-edb9-41a4-cef4-9da9b7de8a5b"
      },
      "execution_count": 10,
      "outputs": [
        {
          "output_type": "stream",
          "name": "stdout",
          "text": [
            "dict_keys([b'batch_label', b'labels', b'data', b'filenames'])\n"
          ]
        }
      ]
    },
    {
      "cell_type": "code",
      "source": [
        "# Extract data and labels\n",
        "data = batch[b'data']\n",
        "labels = batch[b'labels']"
      ],
      "metadata": {
        "id": "avQVwPEHy8-f"
      },
      "execution_count": 17,
      "outputs": []
    },
    {
      "cell_type": "code",
      "source": [
        "# In Cifar-10 dataset\n",
        "# 0: \"airplane\", 1: \"automobile\", 2: \"bird\", 3: \"cat\", 4: \"deer\", 5: \"dog\", 6: \"frog\", 7: \"horse\", 8: \"ship\", 9: \"truck\""
      ],
      "metadata": {
        "id": "1FEL56mEuJUT"
      },
      "execution_count": null,
      "outputs": []
    },
    {
      "cell_type": "code",
      "source": [
        "# find 20 images for birds, cats, deers, dog and horse\n",
        "bird_image = []\n",
        "cat_image = []\n",
        "deer_image = []\n",
        "dog_image = []\n",
        "horse_image = []\n",
        "\n",
        "for img, lbl in zip(data, labels):\n",
        "    if lbl == 2 and len(bird_image) != 20:\n",
        "        bird_image.append(img)\n",
        "    if lbl == 3 and len(cat_image) != 20:\n",
        "        cat_image.append(img)\n",
        "    if lbl == 4 and len(deer_image) != 20:\n",
        "        deer_image.append(img)\n",
        "    if lbl == 5 and len(dog_image) != 20:\n",
        "        dog_image.append(img)\n",
        "    if lbl == 7 and len(horse_image) != 20:\n",
        "        horse_image.append(img)\n",
        "\n",
        "    if len(bird_image) == 20 and len(cat_image) == 20 and len(deer_image) == 20 and len(dog_image) == 20 and len(horse_image) == 20:\n",
        "        break\n",
        "\n",
        "print(\"Number of bird images\", len(bird_image))\n",
        "print(\"Number of cat images\", len(cat_image))\n",
        "print(\"Number of deer images\", len(deer_image))\n",
        "print(\"Number of dog images\", len(dog_image))\n",
        "print(\"Number of horse images\", len(horse_image))"
      ],
      "metadata": {
        "colab": {
          "base_uri": "https://localhost:8080/"
        },
        "id": "H41WmH_CqpA7",
        "outputId": "2b5a1ae2-465d-47f6-c475-23ede0be21f7"
      },
      "execution_count": 26,
      "outputs": [
        {
          "output_type": "stream",
          "name": "stdout",
          "text": [
            "Number of bird images 20\n",
            "Number of cat images 20\n",
            "Number of deer images 20\n",
            "Number of dog images 20\n",
            "Number of horse images 20\n"
          ]
        }
      ]
    },
    {
      "cell_type": "code",
      "source": [
        "# Equally distribute the classes inside the new 100 image dataset\n",
        "# New labels\n",
        "# 0: \"bird\", 1: \"cat\", 2: \"deer\", 3: \"dog\", 4: \"horse\"\n",
        "\n",
        "img_dataset = []\n",
        "\n",
        "for bird, cat, deer, dog, horse in zip(bird_image, cat_image, deer_image, dog_image, horse_image):\n",
        "    img_dataset.append({\"image\": bird, \"label\": 0})\n",
        "    img_dataset.append({\"image\": cat, \"label\": 1})\n",
        "    img_dataset.append({\"image\": deer, \"label\": 2})\n",
        "    img_dataset.append({\"image\": dog, \"label\": 3})\n",
        "    img_dataset.append({\"image\": horse, \"label\": 4})\n",
        "\n",
        "print(len(img_dataset))"
      ],
      "metadata": {
        "colab": {
          "base_uri": "https://localhost:8080/"
        },
        "id": "wDVwNZe82YWq",
        "outputId": "0767c807-1501-46a9-bbbc-1d018e34cdc7"
      },
      "execution_count": 38,
      "outputs": [
        {
          "output_type": "stream",
          "name": "stdout",
          "text": [
            "100\n"
          ]
        }
      ]
    }
  ]
}