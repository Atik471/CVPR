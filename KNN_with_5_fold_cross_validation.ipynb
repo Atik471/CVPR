{
  "nbformat": 4,
  "nbformat_minor": 0,
  "metadata": {
    "colab": {
      "provenance": []
    },
    "kernelspec": {
      "name": "python3",
      "display_name": "Python 3"
    },
    "language_info": {
      "name": "python"
    }
  },
  "cells": [
    {
      "cell_type": "code",
      "execution_count": 1,
      "metadata": {
        "colab": {
          "base_uri": "https://localhost:8080/"
        },
        "id": "gPnBemuVhXgA",
        "outputId": "706d120e-d6bc-4fd9-d666-6c841ce0c10a"
      },
      "outputs": [
        {
          "output_type": "stream",
          "name": "stdout",
          "text": [
            "--2025-07-20 10:12:06--  https://www.cs.toronto.edu/~kriz/cifar-10-python.tar.gz\n",
            "Resolving www.cs.toronto.edu (www.cs.toronto.edu)... 128.100.3.30\n",
            "Connecting to www.cs.toronto.edu (www.cs.toronto.edu)|128.100.3.30|:443... connected.\n",
            "HTTP request sent, awaiting response... 200 OK\n",
            "Length: 170498071 (163M) [application/x-gzip]\n",
            "Saving to: ‘cifar-10-python.tar.gz’\n",
            "\n",
            "cifar-10-python.tar 100%[===================>] 162.60M  49.0MB/s    in 3.6s    \n",
            "\n",
            "2025-07-20 10:12:09 (45.0 MB/s) - ‘cifar-10-python.tar.gz’ saved [170498071/170498071]\n",
            "\n",
            "cifar-10-batches-py/\n",
            "cifar-10-batches-py/data_batch_4\n",
            "cifar-10-batches-py/readme.html\n",
            "cifar-10-batches-py/test_batch\n",
            "cifar-10-batches-py/data_batch_3\n",
            "cifar-10-batches-py/batches.meta\n",
            "cifar-10-batches-py/data_batch_2\n",
            "cifar-10-batches-py/data_batch_5\n",
            "cifar-10-batches-py/data_batch_1\n"
          ]
        }
      ],
      "source": [
        "# Download and Extract Cifar-10 batch files\n",
        "!wget https://www.cs.toronto.edu/~kriz/cifar-10-python.tar.gz\n",
        "!tar -xvzf cifar-10-python.tar.gz"
      ]
    },
    {
      "cell_type": "code",
      "source": [
        "# import packages\n",
        "import pickle\n",
        "import numpy as np\n",
        "import matplotlib.pyplot as plt"
      ],
      "metadata": {
        "id": "W4aYoSbRon7t"
      },
      "execution_count": 97,
      "outputs": []
    },
    {
      "cell_type": "code",
      "source": [
        "# Open and load batch-1 from cifar dataset\n",
        "with open('cifar-10-batches-py/data_batch_1', 'rb') as fo:\n",
        "    batch = pickle.load(fo, encoding='bytes')\n",
        "# show batch keys\n",
        "print(batch.keys())"
      ],
      "metadata": {
        "colab": {
          "base_uri": "https://localhost:8080/"
        },
        "id": "Vo4kCo0VpGyD",
        "outputId": "8fc774bb-a445-4636-c3e1-194f2e835777"
      },
      "execution_count": 98,
      "outputs": [
        {
          "output_type": "stream",
          "name": "stdout",
          "text": [
            "dict_keys([b'batch_label', b'labels', b'data', b'filenames'])\n"
          ]
        }
      ]
    },
    {
      "cell_type": "code",
      "source": [
        "# Extract data and labels\n",
        "data = batch[b'data']\n",
        "labels = batch[b'labels']"
      ],
      "metadata": {
        "id": "avQVwPEHy8-f"
      },
      "execution_count": 99,
      "outputs": []
    },
    {
      "cell_type": "code",
      "source": [
        "# In Cifar-10 dataset\n",
        "# 0: \"airplane\", 1: \"automobile\", 2: \"bird\", 3: \"cat\", 4: \"deer\", 5: \"dog\", 6: \"frog\", 7: \"horse\", 8: \"ship\", 9: \"truck\""
      ],
      "metadata": {
        "id": "1FEL56mEuJUT"
      },
      "execution_count": 100,
      "outputs": []
    },
    {
      "cell_type": "code",
      "source": [
        "# find 20 images for birds, cats, deers, dog and horse\n",
        "bird_image = []\n",
        "cat_image = []\n",
        "deer_image = []\n",
        "dog_image = []\n",
        "horse_image = []\n",
        "\n",
        "for img, lbl in zip(data, labels):\n",
        "    if lbl == 2 and len(bird_image) != 20:\n",
        "        bird_image.append(img)\n",
        "    if lbl == 3 and len(cat_image) != 20:\n",
        "        cat_image.append(img)\n",
        "    if lbl == 4 and len(deer_image) != 20:\n",
        "        deer_image.append(img)\n",
        "    if lbl == 5 and len(dog_image) != 20:\n",
        "        dog_image.append(img)\n",
        "    if lbl == 7 and len(horse_image) != 20:\n",
        "        horse_image.append(img)\n",
        "\n",
        "    if len(bird_image) == 20 and len(cat_image) == 20 and len(deer_image) == 20 and len(dog_image) == 20 and len(horse_image) == 20:\n",
        "        break\n",
        "\n",
        "print(\"Number of bird images\", len(bird_image))\n",
        "print(\"Number of cat images\", len(cat_image))\n",
        "print(\"Number of deer images\", len(deer_image))\n",
        "print(\"Number of dog images\", len(dog_image))\n",
        "print(\"Number of horse images\", len(horse_image))"
      ],
      "metadata": {
        "colab": {
          "base_uri": "https://localhost:8080/"
        },
        "id": "H41WmH_CqpA7",
        "outputId": "a7854f8e-483d-4691-b80c-fe8c0dbadd40"
      },
      "execution_count": 101,
      "outputs": [
        {
          "output_type": "stream",
          "name": "stdout",
          "text": [
            "Number of bird images 20\n",
            "Number of cat images 20\n",
            "Number of deer images 20\n",
            "Number of dog images 20\n",
            "Number of horse images 20\n"
          ]
        }
      ]
    },
    {
      "cell_type": "code",
      "source": [
        "# Equally distribute the classes inside the new 100 image dataset\n",
        "# New labels\n",
        "# 0: \"bird\", 1: \"cat\", 2: \"deer\", 3: \"dog\", 4: \"horse\"\n",
        "\n",
        "img_dataset = []\n",
        "\n",
        "for bird, cat, deer, dog, horse in zip(bird_image, cat_image, deer_image, dog_image, horse_image):\n",
        "    img_dataset.append({\"image\": bird, \"label\": 0})\n",
        "    img_dataset.append({\"image\": cat, \"label\": 1})\n",
        "    img_dataset.append({\"image\": deer, \"label\": 2})\n",
        "    img_dataset.append({\"image\": dog, \"label\": 3})\n",
        "    img_dataset.append({\"image\": horse, \"label\": 4})\n",
        "\n",
        "print(len(img_dataset))"
      ],
      "metadata": {
        "colab": {
          "base_uri": "https://localhost:8080/"
        },
        "id": "wDVwNZe82YWq",
        "outputId": "3cd0c5eb-50de-4877-faab-ce5169b87a44"
      },
      "execution_count": 102,
      "outputs": [
        {
          "output_type": "stream",
          "name": "stdout",
          "text": [
            "100\n"
          ]
        }
      ]
    },
    {
      "cell_type": "code",
      "source": [
        "# check dimension of image\n",
        "print(img_dataset[0][\"image\"].shape)"
      ],
      "metadata": {
        "colab": {
          "base_uri": "https://localhost:8080/"
        },
        "id": "G4ZIMIohZGp3",
        "outputId": "1064a5bd-b27f-47ab-b4f9-45832e42ce29"
      },
      "execution_count": 103,
      "outputs": [
        {
          "output_type": "stream",
          "name": "stdout",
          "text": [
            "(3072,)\n"
          ]
        }
      ]
    },
    {
      "cell_type": "code",
      "source": [
        "# write function for splitting according to crossfold number\n",
        "def split_data(dataset, crossfold):\n",
        "  if crossfold < 1 or crossfold > 5:\n",
        "    print(\"Invalid crossfold number\")\n",
        "    return [], [], [], []\n",
        "\n",
        "  test_set = []\n",
        "  train_set = []\n",
        "\n",
        "  test_start = (crossfold - 1) * 20\n",
        "  test_end = crossfold * 20\n",
        "\n",
        "  test_set = dataset[test_start:test_end]\n",
        "  train_set.extend(dataset[:test_start])\n",
        "  train_set.extend(dataset[test_end:])\n",
        "\n",
        "  # split image and label as x and y\n",
        "  x_test = []\n",
        "  y_test = []\n",
        "  x_train = []\n",
        "  y_train = []\n",
        "\n",
        "  for img in test_set:\n",
        "    x_test.append(img[\"image\"])\n",
        "    y_test.append(img[\"label\"])\n",
        "\n",
        "  for img in train_set:\n",
        "    x_train.append(img[\"image\"])\n",
        "    y_train.append(img[\"label\"])\n",
        "\n",
        "  return x_test, x_train, y_test, y_train"
      ],
      "metadata": {
        "id": "EGDKV9MIUmhY"
      },
      "execution_count": 104,
      "outputs": []
    },
    {
      "cell_type": "code",
      "source": [
        "# calculate manhattan distance for all test image\n",
        "def calcManhattanDistance(x_test, x_train, y_train):\n",
        "\n",
        "  dist = []\n",
        "\n",
        "  for test_img in x_test:\n",
        "    temp_dist = []\n",
        "    for train_img, train_lbl in zip(x_train, y_train):\n",
        "      distance = np.sum(np.abs(test_img - train_img))\n",
        "      temp_dist.append({\"distance\": distance, \"label\": train_lbl})\n",
        "\n",
        "    temp_sorted = sorted(temp_dist, key=lambda x: x[\"distance\"])\n",
        "    dist.append(temp_sorted)\n",
        "\n",
        "  return dist"
      ],
      "metadata": {
        "id": "jVbRAzffc32b"
      },
      "execution_count": 105,
      "outputs": []
    },
    {
      "cell_type": "code",
      "source": [
        "from collections import Counter\n",
        "\n",
        "# write classifying function using kNN\n",
        "def kNNclassifier(dist, k):\n",
        "  prediction = [] # store predictions for all test image\n",
        "\n",
        "  for img in dist:\n",
        "    labels = [neighbor[\"label\"] for neighbor in img[:k]]\n",
        "    most_common_label = Counter(labels).most_common(1)[0][0]\n",
        "    prediction.append(most_common_label)\n",
        "\n",
        "  return prediction"
      ],
      "metadata": {
        "id": "0WL31F10knWS"
      },
      "execution_count": 106,
      "outputs": []
    },
    {
      "cell_type": "code",
      "source": [
        "# calculate accuracy function\n",
        "def accuracy(dist, y_train, k):\n",
        "  pred = kNNclassifier(dist=dist, k=k)\n",
        "\n",
        "  correct_predictions = 0\n",
        "  for i in range(len(pred)):\n",
        "    if pred[i] == y_train[i]:\n",
        "      correct_predictions += 1\n",
        "\n",
        "  accuracy = 100 * correct_predictions / len(pred)\n",
        "  return accuracy\n"
      ],
      "metadata": {
        "id": "2KoMNDwRwxUj"
      },
      "execution_count": 117,
      "outputs": []
    },
    {
      "cell_type": "code",
      "source": [
        "# calculate accuracy for 5-folds\n",
        "\n",
        "acc = []\n",
        "dist = []\n",
        "\n",
        "for k in range(1, 81):\n",
        "  acc_fold = []\n",
        "  for fold in range(1, 6):\n",
        "    x_test, x_train, y_test, y_train = split_data(dataset=img_dataset, crossfold=fold)\n",
        "    dist = calcManhattanDistance(x_test=x_test, x_train=x_train, y_train=y_train)\n",
        "    acc_fold.append(accuracy(dist=dist, y_train=y_train, k=k))\n",
        "\n",
        "  acc.append(acc_fold)\n",
        "\n",
        "print(len(acc))"
      ],
      "metadata": {
        "colab": {
          "base_uri": "https://localhost:8080/"
        },
        "id": "FZ5fICrTxAeq",
        "outputId": "a6527e2f-ad16-498f-a59e-5994867eeabb"
      },
      "execution_count": 125,
      "outputs": [
        {
          "output_type": "stream",
          "name": "stdout",
          "text": [
            "80\n"
          ]
        }
      ]
    },
    {
      "cell_type": "code",
      "source": [
        "import matplotlib.pyplot as plt\n",
        "import numpy as np\n",
        "\n",
        "# Simulated data for illustration\n",
        "k_values = [0, 2, 4, 6, 8, 10, 12, 14, 16, 18, 20, 40, 79]\n",
        "acc = np.array(acc)\n",
        "\n",
        "mean_accuracy = []\n",
        "std_accuracy = []\n",
        "\n",
        "for k_index in range(len(k_values)):\n",
        "    mean = np.mean(acc[k_index])\n",
        "    std = np.std(acc[k_index])\n",
        "    mean_accuracy.append(mean)\n",
        "    std_accuracy.append(std)\n",
        "\n",
        "# Plot the data\n",
        "plt.figure(figsize=(8, 6))\n",
        "plt.errorbar(k_values, mean_accuracy, yerr=std_accuracy, fmt='o', color='green', ecolor='blue')\n",
        "\n",
        "# Connect the data points with a line\n",
        "plt.plot(k_values, mean_accuracy, color='blue')\n",
        "\n",
        "# Add labels and title\n",
        "plt.title(\"Cross-validation on k\", fontsize=14)\n",
        "plt.xlabel(\"k\", fontsize=12)\n",
        "plt.ylabel(\"Cross-validation accuracy\", fontsize=12)\n",
        "plt.grid(True)\n",
        "plt.gca().set_facecolor('lightgray')  # Background color\n",
        "plt.show()\n"
      ],
      "metadata": {
        "colab": {
          "base_uri": "https://localhost:8080/",
          "height": 569
        },
        "id": "uU3EGi4Z2DE_",
        "outputId": "9a74cd97-6d45-4d44-8292-edf56fa66b93"
      },
      "execution_count": 129,
      "outputs": [
        {
          "output_type": "display_data",
          "data": {
            "text/plain": [
              "<Figure size 800x600 with 1 Axes>"
            ],
            "image/png": "[encoded data removed]"
          },
          "metadata": {}
        }
      ]
    }
  ]
}